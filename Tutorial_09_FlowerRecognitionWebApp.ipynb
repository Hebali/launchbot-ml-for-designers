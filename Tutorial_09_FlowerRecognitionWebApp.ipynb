{
 "cells": [
  {
   "cell_type": "markdown",
   "metadata": {
    "deletable": true,
    "editable": true
   },
   "source": [
    "### TensorFlow: \"Integrating Machine Learning Systems into User-Facing Software\"### \n",
    "\n",
    "**By [Patrick Hebron](http://www.patrickhebron.com)**"
   ]
  },
  {
   "cell_type": "code",
   "execution_count": null,
   "metadata": {
    "collapsed": true,
    "deletable": true,
    "editable": true
   },
   "outputs": [],
   "source": [
    "# Import a few system libraries:\n",
    "import os, os.path, json, time\n",
    "\n",
    "# Import Numpy library:\n",
    "import numpy as np\n",
    "\n",
    "# Import TensorFlow library:\n",
    "import tensorflow as tf\n",
    "\n",
    "# Import Flask library:\n",
    "from flask import Flask, render_template, jsonify, request, url_for, send_from_directory\n",
    "from werkzeug import secure_filename"
   ]
  },
  {
   "cell_type": "code",
   "execution_count": null,
   "metadata": {
    "collapsed": true,
    "deletable": true,
    "editable": true
   },
   "outputs": [],
   "source": [
    "# Set path to imagenet data directory:\n",
    "model_dir = 'data/imagenet_retrain'"
   ]
  },
  {
   "cell_type": "code",
   "execution_count": null,
   "metadata": {
    "collapsed": true,
    "deletable": true,
    "editable": true
   },
   "outputs": [],
   "source": [
    "# Image Recognizer:\n",
    "class ImageRecognizer(object):\n",
    "    # Initialize image recognition model:\n",
    "    def __init__(self):\n",
    "        self.idx_to_human = self.loadLookupTable(\n",
    "            os.path.join(model_dir, 'output_labels.txt'))\n",
    "        self.graph = self.createGraph(\n",
    "            os.path.join(model_dir, 'output_graph.pb'))\n",
    "        self.session = tf.Session(graph=self.graph)\n",
    "\n",
    "    # Define human-readable string lookup function:\n",
    "    def loadLookupTable(self,file_path):\n",
    "        if not tf.gfile.Exists(file_path):\n",
    "            tf.logging.fatal('File does not exist %s', file_path)\n",
    "        idx_to_human = []\n",
    "        file_lines = tf.gfile.GFile(file_path).readlines()\n",
    "        for line in file_lines:\n",
    "            idx_to_human.append( line.rstrip('\\n') )\n",
    "        return idx_to_human\n",
    "\n",
    "    # Define graph loader function:\n",
    "    def createGraph(self,file_path):\n",
    "        with tf.gfile.FastGFile(file_path, 'rb') as f:\n",
    "            graph_def = tf.GraphDef()\n",
    "            graph_def.ParseFromString(f.read())\n",
    "            graph = tf.import_graph_def(graph_def, name='')\n",
    "            return graph\n",
    "\n",
    "    # Define image prediction function:\n",
    "    def predict(self,image_path,num_top_predictions=5):\n",
    "        if not tf.gfile.Exists( image_path ):\n",
    "            tf.logging.fatal( 'File does not exist %s', image_path )\n",
    "        image_data = tf.gfile.FastGFile( image_path, 'rb' ).read()\n",
    "        softmax_tensor = self.session.graph.get_tensor_by_name('final_result:0')\n",
    "        predictions = self.session.run(softmax_tensor, {'DecodeJpeg/contents:0': image_data})\n",
    "        predictions = np.squeeze(predictions)\n",
    "        top_k = predictions.argsort()[-num_top_predictions:][::-1]\n",
    "        output = []\n",
    "        for node_id in top_k:\n",
    "            name  = self.idx_to_human[node_id]\n",
    "            score = predictions[node_id]\n",
    "            output.append( { 'name' : name, 'score' : str( score ) } )\n",
    "        return output"
   ]
  },
  {
   "cell_type": "code",
   "execution_count": null,
   "metadata": {
    "collapsed": false,
    "deletable": true,
    "editable": true
   },
   "outputs": [],
   "source": [
    "# Initialize the Flask application:\n",
    "app = Flask('app')\n",
    "\n",
    "# Configure upload settings:\n",
    "app.config['ALLOWED_EXTENSIONS'] = set(['jpg', 'jpeg'])\n",
    "\n",
    "# Checks whether file is allowed:\n",
    "def allowed_file(filename):\n",
    "    return '.' in filename and \\\n",
    "           filename.rsplit('.', 1)[1] in app.config['ALLOWED_EXTENSIONS']\n",
    "\n",
    "@app.route('/uploads/<filename>')\n",
    "def uploaded_file(filename):\n",
    "    return send_from_directory('/tmp', filename)\n",
    "\n",
    "@app.route('/upload', methods=['POST'])\n",
    "def upload():\n",
    "    if request.method == 'POST':\n",
    "        file = request.files['file']\n",
    "        if file and allowed_file( file.filename ):\n",
    "            filename = secure_filename( file.filename )\n",
    "            filepath = os.path.join( '/tmp', filename )\n",
    "            fileurl  = url_for( 'uploaded_file', filename=filename )\n",
    "            file.save( filepath )\n",
    "            res_data = recognizer.predict( filepath )\n",
    "            os.remove( filepath )\n",
    "            return jsonify( { 'prediction' : res_data } )\n",
    "\n",
    "@app.route('/')\n",
    "def index():\n",
    "    return render_template('index.html')"
   ]
  },
  {
   "cell_type": "code",
   "execution_count": null,
   "metadata": {
    "collapsed": false,
    "deletable": true,
    "editable": true
   },
   "outputs": [],
   "source": [
    "recognizer = ImageRecognizer()\n",
    "app.run(host='0.0.0.0', port=8080, debug=False)"
   ]
  },
  {
   "cell_type": "code",
   "execution_count": null,
   "metadata": {
    "collapsed": true
   },
   "outputs": [],
   "source": []
  }
 ],
 "metadata": {
  "kernelspec": {
   "display_name": "Python 2",
   "language": "python",
   "name": "python2"
  },
  "language_info": {
   "codemirror_mode": {
    "name": "ipython",
    "version": 2
   },
   "file_extension": ".py",
   "mimetype": "text/x-python",
   "name": "python",
   "nbconvert_exporter": "python",
   "pygments_lexer": "ipython2",
   "version": "2.7.6"
  }
 },
 "nbformat": 4,
 "nbformat_minor": 2
}
