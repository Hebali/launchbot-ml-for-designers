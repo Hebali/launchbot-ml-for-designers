{
 "cells": [
  {
   "cell_type": "markdown",
   "metadata": {
    "deletable": true,
    "editable": true
   },
   "source": [
    "### TensorFlow Basics: \"Building, Training and Visualizing a Simple Neural Network\"### \n",
    "\n",
    "**By [Patrick Hebron](http://www.patrickhebron.com)**"
   ]
  },
  {
   "cell_type": "code",
   "execution_count": 1,
   "metadata": {
    "collapsed": true,
    "deletable": true,
    "editable": true
   },
   "outputs": [],
   "source": [
    "# Import TensorFlow library:\n",
    "import tensorflow as tf\n",
    "\n",
    "# Import Numpy library:\n",
    "import numpy as np\n",
    "\n",
    "# Import Matplotlib pyplot library:\n",
    "import matplotlib.pyplot as plt"
   ]
  },
  {
   "cell_type": "code",
   "execution_count": 2,
   "metadata": {
    "collapsed": false,
    "deletable": true,
    "editable": true
   },
   "outputs": [],
   "source": [
    "# Line equation:\n",
    "# y = slope * x + intercept\n",
    "\n",
    "# Set target slope and intercept:\n",
    "target_slope     =   12.0\n",
    "target_intercept =    7.0\n",
    "\n",
    "# Set training parameters:\n",
    "num_examples     =   25\n",
    "num_epochs       = 1000\n",
    "learning_rate    =    0.01\n",
    "\n",
    "# Create random noise:\n",
    "noise_level      = 5.0\n",
    "noise            = np.random.uniform( -noise_level, noise_level, size = num_examples )\n",
    "\n",
    "# Create training data:\n",
    "trainX           = np.linspace( 0.0, 10.0, num = num_examples )\n",
    "trainY           = target_slope * trainX + target_intercept + noise"
   ]
  },
  {
   "cell_type": "code",
   "execution_count": 3,
   "metadata": {
    "collapsed": false,
    "deletable": true,
    "editable": true
   },
   "outputs": [],
   "source": [
    "# Create input placeholders:\n",
    "X                = tf.placeholder( tf.float32 )\n",
    "Y                = tf.placeholder( tf.float32 )\n",
    "\n",
    "# Create weight and bias variables:\n",
    "W                = tf.Variable( np.random.randn(), name=\"weight\" )\n",
    "b                = tf.Variable( np.random.randn(), name=\"bias\" )\n",
    "\n",
    "# Create prediction operation:\n",
    "predict          = tf.add( tf.multiply( X, W ), b )\n",
    "\n",
    "# Create mean squared error (MSE) cost function:\n",
    "cost             = tf.reduce_sum( tf.pow( predict - Y, 2.0 ) ) * ( 1.0 / num_examples )\n",
    "\n",
    "# Create gradient descent optimizer:\n",
    "optimizer        = tf.train.GradientDescentOptimizer( learning_rate ).minimize( cost )"
   ]
  },
  {
   "cell_type": "code",
   "execution_count": 4,
   "metadata": {
    "collapsed": false,
    "deletable": true,
    "editable": true
   },
   "outputs": [
    {
     "name": "stdout",
     "output_type": "stream",
     "text": [
      "Epoch: 0025 cost= 11.0016 W= 12.5584 b= 3.6000\n",
      "Epoch: 0050 cost= 10.4544 W= 12.5082 b= 3.9653\n",
      "Epoch: 0075 cost= 10.0332 W= 12.4642 b= 4.2861\n",
      "Epoch: 0100 cost= 9.7089 W= 12.4255 b= 4.5676\n",
      "Epoch: 0125 cost= 9.4593 W= 12.3915 b= 4.8148\n",
      "Epoch: 0150 cost= 9.2672 W= 12.3617 b= 5.0318\n",
      "Epoch: 0175 cost= 9.1194 W= 12.3355 b= 5.2224\n",
      "Epoch: 0200 cost= 9.0057 W= 12.3125 b= 5.3896\n",
      "Epoch: 0225 cost= 8.9182 W= 12.2923 b= 5.5364\n",
      "Epoch: 0250 cost= 8.8510 W= 12.2746 b= 5.6653\n",
      "Epoch: 0275 cost= 8.7993 W= 12.2590 b= 5.7785\n",
      "Epoch: 0300 cost= 8.7597 W= 12.2454 b= 5.8778\n",
      "Epoch: 0325 cost= 8.7292 W= 12.2334 b= 5.9651\n",
      "Epoch: 0350 cost= 8.7058 W= 12.2229 b= 6.0416\n",
      "Epoch: 0375 cost= 8.6878 W= 12.2136 b= 6.1088\n",
      "Epoch: 0400 cost= 8.6741 W= 12.2055 b= 6.1678\n",
      "Epoch: 0425 cost= 8.6636 W= 12.1984 b= 6.2196\n",
      "Epoch: 0450 cost= 8.6555 W= 12.1922 b= 6.2651\n",
      "Epoch: 0475 cost= 8.6493 W= 12.1867 b= 6.3051\n",
      "Epoch: 0500 cost= 8.6446 W= 12.1819 b= 6.3401\n",
      "Epoch: 0525 cost= 8.6411 W= 12.1776 b= 6.3709\n",
      "Epoch: 0550 cost= 8.6383 W= 12.1739 b= 6.3979\n",
      "Epoch: 0575 cost= 8.6363 W= 12.1707 b= 6.4216\n",
      "Epoch: 0600 cost= 8.6347 W= 12.1678 b= 6.4424\n",
      "Epoch: 0625 cost= 8.6335 W= 12.1653 b= 6.4607\n",
      "Epoch: 0650 cost= 8.6326 W= 12.1631 b= 6.4768\n",
      "Epoch: 0675 cost= 8.6319 W= 12.1611 b= 6.4908\n",
      "Epoch: 0700 cost= 8.6314 W= 12.1594 b= 6.5032\n",
      "Epoch: 0725 cost= 8.6311 W= 12.1579 b= 6.5141\n",
      "Epoch: 0750 cost= 8.6308 W= 12.1566 b= 6.5236\n",
      "Epoch: 0775 cost= 8.6306 W= 12.1555 b= 6.5320\n",
      "Epoch: 0800 cost= 8.6304 W= 12.1545 b= 6.5393\n",
      "Epoch: 0825 cost= 8.6303 W= 12.1536 b= 6.5457\n",
      "Epoch: 0850 cost= 8.6303 W= 12.1528 b= 6.5514\n",
      "Epoch: 0875 cost= 8.6302 W= 12.1521 b= 6.5564\n",
      "Epoch: 0900 cost= 8.6302 W= 12.1515 b= 6.5607\n",
      "Epoch: 0925 cost= 8.6302 W= 12.1510 b= 6.5646\n",
      "Epoch: 0950 cost= 8.6301 W= 12.1505 b= 6.5679\n",
      "Epoch: 0975 cost= 8.6301 W= 12.1501 b= 6.5709\n",
      "Epoch: 1000 cost= 8.6301 W= 12.1498 b= 6.5735\n"
     ]
    },
    {
     "data": {
      "image/png": "[encoded data removed]",
      "text/plain": [
       "<matplotlib.figure.Figure at 0x7fa0fa1fde90>"
      ]
     },
     "metadata": {},
     "output_type": "display_data"
    }
   ],
   "source": [
    "# Create session:\n",
    "with tf.Session() as sess:\n",
    "    # Initialize global variables:\n",
    "    sess.run( tf.global_variables_initializer() )\n",
    "\n",
    "    # Iterate over each training epoch:\n",
    "    for epoch in range( num_epochs ):\n",
    "        # Iterate over each training pair:\n",
    "        for ( x, y ) in zip( trainX, trainY ):\n",
    "            # Run optimizer on training pair:\n",
    "            sess.run( optimizer, feed_dict = { X: x, Y: y } )\n",
    "\n",
    "        # Print stats:\n",
    "        if ( epoch + 1 ) % 25 == 0:\n",
    "            curr_cost = sess.run( cost, feed_dict = { X: trainX, Y: trainY } )\n",
    "            curr_W    = sess.run( W )\n",
    "            curr_b    = sess.run( b )\n",
    "            print \"Epoch:\", '%04d' % ( epoch + 1 ), \\\n",
    "                  \"cost=\", \"{:.4f}\".format( curr_cost ), \\\n",
    "                  \"W=\", \"{:.4f}\".format( curr_W ), \\\n",
    "                  \"b=\", \"{:.4f}\".format( curr_b )\n",
    "                \n",
    "    # Plot training data:\n",
    "    plt.plot( trainX, trainY, 'ro', label = 'Data' )\n",
    "    # Plot predictions:\n",
    "    plt.plot( trainX, trainX * sess.run( W ) + sess.run( b ), label = 'Prediction' )\n",
    "    # Plot legend:\n",
    "    plt.legend()\n",
    "    # Show plot:\n",
    "    plt.show()"
   ]
  },
  {
   "cell_type": "code",
   "execution_count": null,
   "metadata": {
    "collapsed": true,
    "deletable": true,
    "editable": true
   },
   "outputs": [],
   "source": []
  }
 ],
 "metadata": {
  "kernelspec": {
   "display_name": "Python 2",
   "language": "python",
   "name": "python2"
  },
  "language_info": {
   "codemirror_mode": {
    "name": "ipython",
    "version": 2
   },
   "file_extension": ".py",
   "mimetype": "text/x-python",
   "name": "python",
   "nbconvert_exporter": "python",
   "pygments_lexer": "ipython2",
   "version": "2.7.6"
  }
 },
 "nbformat": 4,
 "nbformat_minor": 2
}
